{
 "cells": [
  {
   "cell_type": "code",
   "execution_count": 9,
   "metadata": {},
   "outputs": [
    {
     "name": "stdout",
     "output_type": "stream",
     "text": [
      "   Id  SepalLengthCm  SepalWidthCm  PetalLengthCm  PetalWidthCm      Species\n",
      "0   1            5.1           3.5            1.4           0.2  Iris-setosa\n",
      "1   2            4.9           3.0            1.4           0.2  Iris-setosa\n",
      "2   3            4.7           3.2            1.3           0.2  Iris-setosa\n",
      "3   4            4.6           3.1            1.5           0.2  Iris-setosa\n",
      "4   5            5.0           3.6            1.4           0.2  Iris-setosa\n"
     ]
    },
    {
     "data": {
      "image/png": "[encoded data removed]",
      "text/plain": [
       "<Figure size 648x432 with 1 Axes>"
      ]
     },
     "metadata": {
      "needs_background": "light"
     },
     "output_type": "display_data"
    }
   ],
   "source": [
    "import numpy as np\n",
    "import pandas as pd\n",
    "from sklearn import datasets\n",
    "import matplotlib.pyplot as plt\n",
    "from scipy.spatial.distance import pdist\n",
    "from scipy.cluster.hierarchy import linkage, dendrogram\n",
    "from sklearn.preprocessing import normalize\n",
    "\n",
    "iris_dataset = pd.read_csv('iris.csv')\n",
    "print(iris_dataset.head())\n",
    "\n",
    "#Drop column of species \n",
    "iris_dataset.drop('Species', axis = 1, inplace = True)\n",
    "\n",
    "# Compute distance matrix\n",
    "d = pdist(X=iris_dataset, metric=\"euclidean\")\n",
    "\n",
    "# Perform agglomerative hierarchical clustering\n",
    "# Use 'average' link function\n",
    "mdl = linkage(d, method='average')\n",
    "\n",
    "# Plot resultant dendrogram\n",
    "plt.figure(figsize=(9,6))\n",
    "dendrogram(mdl)\n",
    "plt.show()"
   ]
  },
  {
   "cell_type": "code",
   "execution_count": 12,
   "metadata": {},
   "outputs": [
    {
     "data": {
      "text/plain": [
       "<matplotlib.lines.Line2D at 0x2a594799c18>"
      ]
     },
     "execution_count": 12,
     "metadata": {},
     "output_type": "execute_result"
    },
    {
     "data": {
      "image/png": "[encoded data removed]",
      "text/plain": [
       "<Figure size 720x504 with 1 Axes>"
      ]
     },
     "metadata": {
      "needs_background": "light"
     },
     "output_type": "display_data"
    }
   ],
   "source": [
    "plt.figure(figsize=(10, 7))  \n",
    "plt.title(\"Dendrograms\")  \n",
    "dend = dendrogram(linkage(d, method='average'))\n",
    "plt.axhline(y=50, color='r', linestyle='--')"
   ]
  },
  {
   "cell_type": "code",
   "execution_count": 15,
   "metadata": {},
   "outputs": [],
   "source": [
    "from sklearn.cluster import AgglomerativeClustering\n",
    "cluster = AgglomerativeClustering(n_clusters=2, affinity='euclidean', linkage='average')  "
   ]
  },
  {
   "cell_type": "code",
   "execution_count": 26,
   "metadata": {},
   "outputs": [
    {
     "name": "stdout",
     "output_type": "stream",
     "text": [
      "[[1.13578167 2.06397674 3.06920185 ... 1.17473401 2.1        1.26095202]]\n"
     ]
    },
    {
     "data": {
      "text/plain": [
       "array([0, 0, 0, ..., 0, 0, 0], dtype=int64)"
      ]
     },
     "execution_count": 26,
     "metadata": {},
     "output_type": "execute_result"
    }
   ],
   "source": [
    "print(d)\n",
    "d =d.reshape(-1, 1)\n",
    "cluster.fit_predict(d)"
   ]
  },
  {
   "cell_type": "code",
   "execution_count": 31,
   "metadata": {},
   "outputs": [
    {
     "data": {
      "text/plain": [
       "<Figure size 720x504 with 0 Axes>"
      ]
     },
     "execution_count": 31,
     "metadata": {},
     "output_type": "execute_result"
    },
    {
     "data": {
      "text/plain": [
       "<Figure size 720x504 with 0 Axes>"
      ]
     },
     "metadata": {},
     "output_type": "display_data"
    }
   ],
   "source": [
    "plt.figure(figsize=(10, 7))"
   ]
  },
  {
   "cell_type": "code",
   "execution_count": 40,
   "metadata": {},
   "outputs": [],
   "source": [
    "# Naive bayes in iris dataset\n",
    "import matplotlib.colors as colors\n",
    "import seaborn as sns\n",
    "import itertools\n",
    "from scipy.stats import norm\n",
    "import scipy.stats\n",
    "from sklearn import model_selection\n",
    "from sklearn.naive_bayes import GaussianNB\n",
    "iris_data = pd.read_csv('iris.csv')\n"
   ]
  },
  {
   "cell_type": "code",
   "execution_count": 41,
   "metadata": {},
   "outputs": [],
   "source": [
    "#Replace Species type with numbers\n",
    "iris_data = pd.read_csv('iris.csv')\n",
    "iris_data.Species.replace(['Iris-setosa', 'Iris-versicolor', 'Iris-virginica'], [1, 2, 3], inplace=True)\n",
    "clf = GaussianNB()\n",
    "\n",
    "# Split-out validation dataset\n",
    "array = iris_data.values\n",
    "X = array[:,1:5]\n",
    "Y = array[:,5]\n",
    "\n",
    "# One-third of data as a part of test set\n",
    "validation_size = 0.33\n",
    "\n",
    "seed = 7\n",
    "X_train, X_validation, Y_train, Y_validation = model_selection.train_test_split(X, Y, test_size=validation_size, random_state=seed)\n"
   ]
  },
  {
   "cell_type": "code",
   "execution_count": 42,
   "metadata": {},
   "outputs": [
    {
     "data": {
      "text/plain": [
       "GaussianNB(priors=None, var_smoothing=1e-09)"
      ]
     },
     "execution_count": 42,
     "metadata": {},
     "output_type": "execute_result"
    }
   ],
   "source": [
    "# Test options and evaluation metric\n",
    "scoring = 'accuracy'\n",
    "\n",
    "#Fitting the training set\n",
    "clf.fit(X_train, Y_train)"
   ]
  },
  {
   "cell_type": "code",
   "execution_count": 43,
   "metadata": {},
   "outputs": [],
   "source": [
    "#Predicting for the Test Set\n",
    "pred_clf = clf.predict(X_validation)\n",
    "\n",
    "#Prediction Probability\n",
    "prob_pos_clf = clf.predict_proba(X_validation)[:, 1]"
   ]
  },
  {
   "cell_type": "code",
   "execution_count": 44,
   "metadata": {},
   "outputs": [],
   "source": [
    "#Create the prediction file by concatenation of the original data and predictions\n",
    "#Reshaping needed to perform the concatenation\n",
    "pred_clf_df = pd.DataFrame(pred_clf.reshape(50,1))\n",
    "#Column renaming to indicate the predictions\n",
    "pred_clf_df.rename(columns={0:'Prediction'}, inplace=True)"
   ]
  },
  {
   "cell_type": "code",
   "execution_count": 46,
   "metadata": {},
   "outputs": [
    {
     "name": "stdout",
     "output_type": "stream",
     "text": [
      "      0    1    2    3\n",
      "0   5.9  3.0  5.1  1.8\n",
      "1   5.4  3.0  4.5  1.5\n",
      "2   5.0  3.5  1.3  0.3\n",
      "3   5.6  3.0  4.5  1.5\n",
      "4   4.9  2.5  4.5  1.7\n",
      "5   4.5  2.3  1.3  0.3\n",
      "6   6.9  3.1  4.9  1.5\n",
      "7   5.6  2.7  4.2  1.3\n",
      "8   4.8  3.4  1.6  0.2\n",
      "9   6.4  3.2  4.5  1.5\n",
      "10  6.7  3.0  5.0  1.7\n",
      "11  6.0  3.4  4.5  1.6\n",
      "12  5.2  4.1  1.5  0.1\n",
      "13  7.2  3.6  6.1  2.5\n",
      "14  5.2  3.4  1.4  0.2\n",
      "15  5.9  3.2  4.8  1.8\n",
      "16  6.7  2.5  5.8  1.8\n",
      "17  6.4  3.1  5.5  1.8\n",
      "18  5.1  3.8  1.6  0.2\n",
      "19  4.9  3.1  1.5  0.1\n",
      "20  5.8  2.7  3.9  1.2\n",
      "21  6.9  3.2  5.7  2.3\n",
      "22  6.1  2.9  4.7  1.4\n",
      "23  6.0  2.2  5.0  1.5\n",
      "24  7.2  3.0  5.8  1.6\n",
      "25  6.0  3.0  4.8  1.8\n",
      "26  6.2  2.9  4.3  1.3\n",
      "27  5.5  2.4  3.8  1.1\n",
      "28  5.8  2.7  5.1  1.9\n",
      "29  6.7  3.1  5.6  2.4\n",
      "30  6.2  2.8  4.8  1.8\n",
      "31  5.7  2.6  3.5  1.0\n",
      "32  4.6  3.6  1.0  0.2\n",
      "33  6.9  3.1  5.4  2.1\n",
      "34  6.4  2.9  4.3  1.3\n",
      "35  4.8  3.0  1.4  0.3\n",
      "36  5.5  3.5  1.3  0.2\n",
      "37  5.4  3.9  1.7  0.4\n",
      "38  5.1  3.5  1.4  0.3\n",
      "39  7.1  3.0  5.9  2.1\n",
      "40  6.7  3.3  5.7  2.1\n",
      "41  6.8  2.8  4.8  1.4\n",
      "42  6.4  2.8  5.6  2.2\n",
      "43  6.5  3.0  5.5  1.8\n",
      "44  5.7  3.0  4.2  1.2\n",
      "45  5.0  3.3  1.4  0.2\n",
      "46  6.7  3.1  4.4  1.4\n",
      "47  6.0  2.2  4.0  1.0\n",
      "48  6.4  2.7  5.3  1.9\n",
      "49  4.7  3.2  1.6  0.2\n"
     ]
    }
   ],
   "source": [
    "#reshaping the test dataset\n",
    "X_validation_df = pd.DataFrame(X_validation.reshape(50,4))\n",
    "print(X_validation_df)"
   ]
  },
  {
   "cell_type": "code",
   "execution_count": 47,
   "metadata": {},
   "outputs": [
    {
     "name": "stdout",
     "output_type": "stream",
     "text": [
      "      0    1    2    3  Prediction\n",
      "0   5.9  3.0  5.1  1.8         3.0\n",
      "1   5.4  3.0  4.5  1.5         2.0\n",
      "2   5.0  3.5  1.3  0.3         1.0\n",
      "3   5.6  3.0  4.5  1.5         2.0\n",
      "4   4.9  2.5  4.5  1.7         2.0\n",
      "5   4.5  2.3  1.3  0.3         1.0\n",
      "6   6.9  3.1  4.9  1.5         3.0\n",
      "7   5.6  2.7  4.2  1.3         2.0\n",
      "8   4.8  3.4  1.6  0.2         1.0\n",
      "9   6.4  3.2  4.5  1.5         2.0\n",
      "10  6.7  3.0  5.0  1.7         3.0\n",
      "11  6.0  3.4  4.5  1.6         2.0\n",
      "12  5.2  4.1  1.5  0.1         1.0\n",
      "13  7.2  3.6  6.1  2.5         3.0\n",
      "14  5.2  3.4  1.4  0.2         1.0\n",
      "15  5.9  3.2  4.8  1.8         3.0\n",
      "16  6.7  2.5  5.8  1.8         3.0\n",
      "17  6.4  3.1  5.5  1.8         3.0\n",
      "18  5.1  3.8  1.6  0.2         1.0\n",
      "19  4.9  3.1  1.5  0.1         1.0\n",
      "20  5.8  2.7  3.9  1.2         2.0\n",
      "21  6.9  3.2  5.7  2.3         3.0\n",
      "22  6.1  2.9  4.7  1.4         2.0\n",
      "23  6.0  2.2  5.0  1.5         2.0\n",
      "24  7.2  3.0  5.8  1.6         3.0\n",
      "25  6.0  3.0  4.8  1.8         3.0\n",
      "26  6.2  2.9  4.3  1.3         2.0\n",
      "27  5.5  2.4  3.8  1.1         2.0\n",
      "28  5.8  2.7  5.1  1.9         3.0\n",
      "29  6.7  3.1  5.6  2.4         3.0\n",
      "30  6.2  2.8  4.8  1.8         3.0\n",
      "31  5.7  2.6  3.5  1.0         2.0\n",
      "32  4.6  3.6  1.0  0.2         1.0\n",
      "33  6.9  3.1  5.4  2.1         3.0\n",
      "34  6.4  2.9  4.3  1.3         2.0\n",
      "35  4.8  3.0  1.4  0.3         1.0\n",
      "36  5.5  3.5  1.3  0.2         1.0\n",
      "37  5.4  3.9  1.7  0.4         1.0\n",
      "38  5.1  3.5  1.4  0.3         1.0\n",
      "39  7.1  3.0  5.9  2.1         3.0\n",
      "40  6.7  3.3  5.7  2.1         3.0\n",
      "41  6.8  2.8  4.8  1.4         2.0\n",
      "42  6.4  2.8  5.6  2.2         3.0\n",
      "43  6.5  3.0  5.5  1.8         3.0\n",
      "44  5.7  3.0  4.2  1.2         2.0\n",
      "45  5.0  3.3  1.4  0.2         1.0\n",
      "46  6.7  3.1  4.4  1.4         2.0\n",
      "47  6.0  2.2  4.0  1.0         2.0\n",
      "48  6.4  2.7  5.3  1.9         3.0\n",
      "49  4.7  3.2  1.6  0.2         1.0\n"
     ]
    }
   ],
   "source": [
    "#concatenating the two pandas dataframes over the columns to create a prediction dataset\n",
    "pred_outcome = pd.concat([X_validation_df, pred_clf_df], axis=1, join_axes=[X_validation_df.index])\n",
    "print(pred_outcome)"
   ]
  },
  {
   "cell_type": "code",
   "execution_count": 49,
   "metadata": {},
   "outputs": [],
   "source": [
    "pred_outcome.rename(columns = {0:'SepalLengthCm', 1:'SepalWidthCm', 2:'PetalLengthCm', 3:'PetalWidthCm'}, inplace=True)\n",
    "\n",
    "del iris_data['Id']"
   ]
  },
  {
   "cell_type": "code",
   "execution_count": 51,
   "metadata": {},
   "outputs": [
    {
     "name": "stdout",
     "output_type": "stream",
     "text": [
      "   SepalLengthCm  SepalWidthCm  PetalLengthCm  PetalWidthCm  Species  \\\n",
      "0            5.4           3.9            1.7           0.4        1   \n",
      "1            4.9           3.1            1.5           0.1        1   \n",
      "2            4.9           3.1            1.5           0.1        1   \n",
      "3            4.9           3.1            1.5           0.1        1   \n",
      "4            4.8           3.4            1.6           0.2        1   \n",
      "5            5.1           3.5            1.4           0.3        1   \n",
      "6            4.6           3.6            1.0           0.2        1   \n",
      "7            5.2           3.4            1.4           0.2        1   \n",
      "8            4.7           3.2            1.6           0.2        1   \n",
      "9            5.2           4.1            1.5           0.1        1   \n",
      "\n",
      "   Prediction  \n",
      "0         1.0  \n",
      "1         1.0  \n",
      "2         1.0  \n",
      "3         1.0  \n",
      "4         1.0  \n",
      "5         1.0  \n",
      "6         1.0  \n",
      "7         1.0  \n",
      "8         1.0  \n",
      "9         1.0  \n",
      "\n",
      "\n"
     ]
    }
   ],
   "source": [
    "#merging the prediction with original dataset\n",
    "pred_comp = pd.merge(iris_data,pred_outcome, on=['SepalLengthCm','SepalWidthCm','PetalLengthCm','PetalWidthCm'])\n",
    "\n",
    "#print top 10 lines of the final predictions\n",
    "print((pred_comp).head(10))\n",
    "print (\"\\n\")"
   ]
  },
  {
   "cell_type": "code",
   "execution_count": 60,
   "metadata": {},
   "outputs": [],
   "source": [
    "#Save the file to csv\n",
    "pred_comp.to_csv('Predictions.csv', sep=',')"
   ]
  },
  {
   "cell_type": "code",
   "execution_count": null,
   "metadata": {},
   "outputs": [],
   "source": []
  },
  {
   "cell_type": "code",
   "execution_count": 61,
   "metadata": {},
   "outputs": [
    {
     "name": "stdout",
     "output_type": "stream",
     "text": [
      "Accuracy: 0.970000\n"
     ]
    }
   ],
   "source": [
    "#Model Performance\n",
    "#setting performance parameters\n",
    "kfold = model_selection.KFold(n_splits=10, random_state=seed)\n",
    "\n",
    "#calling the cross validation function\n",
    "results = model_selection.cross_val_score(GaussianNB(), X_train, Y_train, cv=kfold, scoring=scoring)\n",
    "\n",
    "#displaying the mean and standard deviation of the prediction\n",
    "msg = \"%s: %f\" % ('Accuracy',results.mean())\n",
    "print(msg)"
   ]
  },
  {
   "cell_type": "code",
   "execution_count": null,
   "metadata": {},
   "outputs": [],
   "source": []
  }
 ],
 "metadata": {
  "kernelspec": {
   "display_name": "Python 3",
   "language": "python",
   "name": "python3"
  },
  "language_info": {
   "codemirror_mode": {
    "name": "ipython",
    "version": 3
   },
   "file_extension": ".py",
   "mimetype": "text/x-python",
   "name": "python",
   "nbconvert_exporter": "python",
   "pygments_lexer": "ipython3",
   "version": "3.7.3"
  }
 },
 "nbformat": 4,
 "nbformat_minor": 2
}
